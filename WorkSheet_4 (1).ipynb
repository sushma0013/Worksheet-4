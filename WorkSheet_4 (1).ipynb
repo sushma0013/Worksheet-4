{
  "nbformat": 4,
  "nbformat_minor": 0,
  "metadata": {
    "colab": {
      "provenance": []
    },
    "kernelspec": {
      "name": "python3",
      "display_name": "Python 3"
    },
    "language_info": {
      "name": "python"
    }
  },
  "cells": [
    {
      "cell_type": "markdown",
      "source": [
        "1. Load the Dataset:\n",
        "\n",
        "• Read the dataset into a pandas DataFrame.\n",
        "\n",
        "\n"
      ],
      "metadata": {
        "id": "E2nOv24E9-EL"
      }
    },
    {
      "cell_type": "code",
      "execution_count": 4,
      "metadata": {
        "colab": {
          "base_uri": "https://localhost:8080/"
        },
        "id": "TnTUyckU9VIt",
        "outputId": "5115c03e-6d05-4d01-8c64-07029239a0d4"
      },
      "outputs": [
        {
          "output_type": "stream",
          "name": "stdout",
          "text": [
            "First 5 rows of the dataset:\n",
            "   Pregnancies  Glucose  BloodPressure  SkinThickness  Insulin   BMI  \\\n",
            "0            6      148             72             35        0  33.6   \n",
            "1            1       85             66             29        0  26.6   \n",
            "2            8      183             64              0        0  23.3   \n",
            "3            1       89             66             23       94  28.1   \n",
            "4            0      137             40             35      168  43.1   \n",
            "\n",
            "   DiabetesPedigreeFunction  Age  Outcome  \n",
            "0                     0.627   50        1  \n",
            "1                     0.351   31        0  \n",
            "2                     0.672   32        1  \n",
            "3                     0.167   21        0  \n",
            "4                     2.288   33        1  \n",
            "\n",
            "Dataset Information:\n",
            "<class 'pandas.core.frame.DataFrame'>\n",
            "RangeIndex: 768 entries, 0 to 767\n",
            "Data columns (total 9 columns):\n",
            " #   Column                    Non-Null Count  Dtype  \n",
            "---  ------                    --------------  -----  \n",
            " 0   Pregnancies               768 non-null    int64  \n",
            " 1   Glucose                   768 non-null    int64  \n",
            " 2   BloodPressure             768 non-null    int64  \n",
            " 3   SkinThickness             768 non-null    int64  \n",
            " 4   Insulin                   768 non-null    int64  \n",
            " 5   BMI                       768 non-null    float64\n",
            " 6   DiabetesPedigreeFunction  768 non-null    float64\n",
            " 7   Age                       768 non-null    int64  \n",
            " 8   Outcome                   768 non-null    int64  \n",
            "dtypes: float64(2), int64(7)\n",
            "memory usage: 54.1 KB\n",
            "None\n",
            "\n",
            "Summary Statistics:\n",
            "       Pregnancies     Glucose  BloodPressure  SkinThickness     Insulin  \\\n",
            "count   768.000000  768.000000     768.000000     768.000000  768.000000   \n",
            "mean      3.845052  120.894531      69.105469      20.536458   79.799479   \n",
            "std       3.369578   31.972618      19.355807      15.952218  115.244002   \n",
            "min       0.000000    0.000000       0.000000       0.000000    0.000000   \n",
            "25%       1.000000   99.000000      62.000000       0.000000    0.000000   \n",
            "50%       3.000000  117.000000      72.000000      23.000000   30.500000   \n",
            "75%       6.000000  140.250000      80.000000      32.000000  127.250000   \n",
            "max      17.000000  199.000000     122.000000      99.000000  846.000000   \n",
            "\n",
            "              BMI  DiabetesPedigreeFunction         Age     Outcome  \n",
            "count  768.000000                768.000000  768.000000  768.000000  \n",
            "mean    31.992578                  0.471876   33.240885    0.348958  \n",
            "std      7.884160                  0.331329   11.760232    0.476951  \n",
            "min      0.000000                  0.078000   21.000000    0.000000  \n",
            "25%     27.300000                  0.243750   24.000000    0.000000  \n",
            "50%     32.000000                  0.372500   29.000000    0.000000  \n",
            "75%     36.600000                  0.626250   41.000000    1.000000  \n",
            "max     67.100000                  2.420000   81.000000    1.000000  \n"
          ]
        }
      ],
      "source": [
        "import pandas as pd\n",
        "file_path = \"/content/drive/MyDrive/Datasets/diabetes.csv\"\n",
        "diabetes_df = pd.read_csv(file_path)\n",
        "print(\"First 5 rows of the dataset:\")\n",
        "print(diabetes_df.head())\n",
        "print(\"\\nDataset Information:\")\n",
        "print(diabetes_df.info())\n",
        "print(\"\\nSummary Statistics:\")\n",
        "print(diabetes_df.describe())"
      ]
    },
    {
      "cell_type": "markdown",
      "source": [
        "• Display the first few rows and perform exploratory data analysis (EDA) to understand the dataset (e.g., check data types, missing values, summary statistics).\n"
      ],
      "metadata": {
        "id": "I6vCeON7EaJI"
      }
    },
    {
      "cell_type": "code",
      "source": [
        "file_path = \"/content/drive/MyDrive/Datasets/diabetes.csv\"\n",
        "diabetes_df = pd.read_csv(file_path)\n",
        "\n",
        "print(\"First 5 rows of the dataset:\")\n",
        "print(diabetes_df.head())\n",
        "print(\"\\nDataset Information:\")\n",
        "print(diabetes_df.info())\n",
        "print(\"\\nMissing Values in Each Column:\")\n",
        "print(diabetes_df.isnull().sum())\n",
        "print(\"\\nSummary Statistics:\")\n",
        "print(diabetes_df.describe())\n",
        "print(\"\\nUnique Values in Each Column:\")\n",
        "print(diabetes_df.nunique())\n",
        "print(\"\\nCorrelation Matrix:\")\n",
        "print(diabetes_df.corr())"
      ],
      "metadata": {
        "colab": {
          "base_uri": "https://localhost:8080/"
        },
        "id": "3IF8cRJYEe4B",
        "outputId": "1ffc33c8-5c99-4cc1-ac8d-4158a535193f"
      },
      "execution_count": 5,
      "outputs": [
        {
          "output_type": "stream",
          "name": "stdout",
          "text": [
            "First 5 rows of the dataset:\n",
            "   Pregnancies  Glucose  BloodPressure  SkinThickness  Insulin   BMI  \\\n",
            "0            6      148             72             35        0  33.6   \n",
            "1            1       85             66             29        0  26.6   \n",
            "2            8      183             64              0        0  23.3   \n",
            "3            1       89             66             23       94  28.1   \n",
            "4            0      137             40             35      168  43.1   \n",
            "\n",
            "   DiabetesPedigreeFunction  Age  Outcome  \n",
            "0                     0.627   50        1  \n",
            "1                     0.351   31        0  \n",
            "2                     0.672   32        1  \n",
            "3                     0.167   21        0  \n",
            "4                     2.288   33        1  \n",
            "\n",
            "Dataset Information:\n",
            "<class 'pandas.core.frame.DataFrame'>\n",
            "RangeIndex: 768 entries, 0 to 767\n",
            "Data columns (total 9 columns):\n",
            " #   Column                    Non-Null Count  Dtype  \n",
            "---  ------                    --------------  -----  \n",
            " 0   Pregnancies               768 non-null    int64  \n",
            " 1   Glucose                   768 non-null    int64  \n",
            " 2   BloodPressure             768 non-null    int64  \n",
            " 3   SkinThickness             768 non-null    int64  \n",
            " 4   Insulin                   768 non-null    int64  \n",
            " 5   BMI                       768 non-null    float64\n",
            " 6   DiabetesPedigreeFunction  768 non-null    float64\n",
            " 7   Age                       768 non-null    int64  \n",
            " 8   Outcome                   768 non-null    int64  \n",
            "dtypes: float64(2), int64(7)\n",
            "memory usage: 54.1 KB\n",
            "None\n",
            "\n",
            "Missing Values in Each Column:\n",
            "Pregnancies                 0\n",
            "Glucose                     0\n",
            "BloodPressure               0\n",
            "SkinThickness               0\n",
            "Insulin                     0\n",
            "BMI                         0\n",
            "DiabetesPedigreeFunction    0\n",
            "Age                         0\n",
            "Outcome                     0\n",
            "dtype: int64\n",
            "\n",
            "Summary Statistics:\n",
            "       Pregnancies     Glucose  BloodPressure  SkinThickness     Insulin  \\\n",
            "count   768.000000  768.000000     768.000000     768.000000  768.000000   \n",
            "mean      3.845052  120.894531      69.105469      20.536458   79.799479   \n",
            "std       3.369578   31.972618      19.355807      15.952218  115.244002   \n",
            "min       0.000000    0.000000       0.000000       0.000000    0.000000   \n",
            "25%       1.000000   99.000000      62.000000       0.000000    0.000000   \n",
            "50%       3.000000  117.000000      72.000000      23.000000   30.500000   \n",
            "75%       6.000000  140.250000      80.000000      32.000000  127.250000   \n",
            "max      17.000000  199.000000     122.000000      99.000000  846.000000   \n",
            "\n",
            "              BMI  DiabetesPedigreeFunction         Age     Outcome  \n",
            "count  768.000000                768.000000  768.000000  768.000000  \n",
            "mean    31.992578                  0.471876   33.240885    0.348958  \n",
            "std      7.884160                  0.331329   11.760232    0.476951  \n",
            "min      0.000000                  0.078000   21.000000    0.000000  \n",
            "25%     27.300000                  0.243750   24.000000    0.000000  \n",
            "50%     32.000000                  0.372500   29.000000    0.000000  \n",
            "75%     36.600000                  0.626250   41.000000    1.000000  \n",
            "max     67.100000                  2.420000   81.000000    1.000000  \n",
            "\n",
            "Unique Values in Each Column:\n",
            "Pregnancies                  17\n",
            "Glucose                     136\n",
            "BloodPressure                47\n",
            "SkinThickness                51\n",
            "Insulin                     186\n",
            "BMI                         248\n",
            "DiabetesPedigreeFunction    517\n",
            "Age                          52\n",
            "Outcome                       2\n",
            "dtype: int64\n",
            "\n",
            "Correlation Matrix:\n",
            "                          Pregnancies   Glucose  BloodPressure  SkinThickness  \\\n",
            "Pregnancies                  1.000000  0.129459       0.141282      -0.081672   \n",
            "Glucose                      0.129459  1.000000       0.152590       0.057328   \n",
            "BloodPressure                0.141282  0.152590       1.000000       0.207371   \n",
            "SkinThickness               -0.081672  0.057328       0.207371       1.000000   \n",
            "Insulin                     -0.073535  0.331357       0.088933       0.436783   \n",
            "BMI                          0.017683  0.221071       0.281805       0.392573   \n",
            "DiabetesPedigreeFunction    -0.033523  0.137337       0.041265       0.183928   \n",
            "Age                          0.544341  0.263514       0.239528      -0.113970   \n",
            "Outcome                      0.221898  0.466581       0.065068       0.074752   \n",
            "\n",
            "                           Insulin       BMI  DiabetesPedigreeFunction  \\\n",
            "Pregnancies              -0.073535  0.017683                 -0.033523   \n",
            "Glucose                   0.331357  0.221071                  0.137337   \n",
            "BloodPressure             0.088933  0.281805                  0.041265   \n",
            "SkinThickness             0.436783  0.392573                  0.183928   \n",
            "Insulin                   1.000000  0.197859                  0.185071   \n",
            "BMI                       0.197859  1.000000                  0.140647   \n",
            "DiabetesPedigreeFunction  0.185071  0.140647                  1.000000   \n",
            "Age                      -0.042163  0.036242                  0.033561   \n",
            "Outcome                   0.130548  0.292695                  0.173844   \n",
            "\n",
            "                               Age   Outcome  \n",
            "Pregnancies               0.544341  0.221898  \n",
            "Glucose                   0.263514  0.466581  \n",
            "BloodPressure             0.239528  0.065068  \n",
            "SkinThickness            -0.113970  0.074752  \n",
            "Insulin                  -0.042163  0.130548  \n",
            "BMI                       0.036242  0.292695  \n",
            "DiabetesPedigreeFunction  0.033561  0.173844  \n",
            "Age                       1.000000  0.238356  \n",
            "Outcome                   0.238356  1.000000  \n"
          ]
        }
      ]
    },
    {
      "cell_type": "markdown",
      "source": [
        "#2. Handle Missing Data:\n",
        "• Handle any missing values appropriately, either by dropping or imputing them based on the data.\n"
      ],
      "metadata": {
        "id": "I1kMSLdZF0hi"
      }
    },
    {
      "cell_type": "code",
      "source": [
        "import numpy as np\n",
        "\n",
        "file_path = \"/content/drive/MyDrive/Datasets/diabetes.csv\"\n",
        "diabetes_df = pd.read_csv(file_path)\n",
        "columns_with_zeros = [\"Glucose\", \"BloodPressure\", \"SkinThickness\", \"Insulin\", \"BMI\"]\n",
        "\n",
        "print(\"Count of zeros in each column:\")\n",
        "for col in columns_with_zeros:\n",
        "    zero_count = (diabetes_df[col] == 0).sum()\n",
        "    print(f\"{col}: {zero_count}\")\n",
        "\n",
        "diabetes_df[columns_with_zeros] = diabetes_df[columns_with_zeros].replace(0, np.nan)\n",
        "print(\"\\nMissing values after replacing zeros:\")\n",
        "print(diabetes_df.isnull().sum())\n",
        "\n",
        "diabetes_df.fillna(diabetes_df.median(), inplace=True)\n",
        "print(\"\\nMissing values after imputation:\")\n",
        "print(diabetes_df.isnull().sum())"
      ],
      "metadata": {
        "colab": {
          "base_uri": "https://localhost:8080/"
        },
        "id": "52etvtwTF42j",
        "outputId": "a08a42ce-a411-4939-ba42-646cb9e45fec"
      },
      "execution_count": 6,
      "outputs": [
        {
          "output_type": "stream",
          "name": "stdout",
          "text": [
            "Count of zeros in each column:\n",
            "Glucose: 5\n",
            "BloodPressure: 35\n",
            "SkinThickness: 227\n",
            "Insulin: 374\n",
            "BMI: 11\n",
            "\n",
            "Missing values after replacing zeros:\n",
            "Pregnancies                   0\n",
            "Glucose                       5\n",
            "BloodPressure                35\n",
            "SkinThickness               227\n",
            "Insulin                     374\n",
            "BMI                          11\n",
            "DiabetesPedigreeFunction      0\n",
            "Age                           0\n",
            "Outcome                       0\n",
            "dtype: int64\n",
            "\n",
            "Missing values after imputation:\n",
            "Pregnancies                 0\n",
            "Glucose                     0\n",
            "BloodPressure               0\n",
            "SkinThickness               0\n",
            "Insulin                     0\n",
            "BMI                         0\n",
            "DiabetesPedigreeFunction    0\n",
            "Age                         0\n",
            "Outcome                     0\n",
            "dtype: int64\n"
          ]
        }
      ]
    },
    {
      "cell_type": "markdown",
      "source": [
        "#3. Feature Engineering:\n",
        "• Separate the feature matrix (X) and target variable (y)."
      ],
      "metadata": {
        "id": "MCaCd8b4GLFo"
      }
    },
    {
      "cell_type": "code",
      "source": [
        "X = diabetes_df.drop(columns=[\"Outcome\"])\n",
        "y = diabetes_df[\"Outcome\"]\n",
        "\n",
        "print(\"Feature matrix (X) shape:\", X.shape)\n",
        "print(\"Target variable (y) shape:\", y.shape)\n",
        "print(\"\\nFirst 5 rows of X:\")\n",
        "print(X.head())\n",
        "\n",
        "print(\"\\nFirst 5 rows of y:\")\n",
        "print(y.head())"
      ],
      "metadata": {
        "colab": {
          "base_uri": "https://localhost:8080/"
        },
        "id": "n54dR0zvGN_d",
        "outputId": "cc3adc1e-6820-4407-b2c9-30523fb59d95"
      },
      "execution_count": 7,
      "outputs": [
        {
          "output_type": "stream",
          "name": "stdout",
          "text": [
            "Feature matrix (X) shape: (768, 8)\n",
            "Target variable (y) shape: (768,)\n",
            "\n",
            "First 5 rows of X:\n",
            "   Pregnancies  Glucose  BloodPressure  SkinThickness  Insulin   BMI  \\\n",
            "0            6    148.0           72.0           35.0    125.0  33.6   \n",
            "1            1     85.0           66.0           29.0    125.0  26.6   \n",
            "2            8    183.0           64.0           29.0    125.0  23.3   \n",
            "3            1     89.0           66.0           23.0     94.0  28.1   \n",
            "4            0    137.0           40.0           35.0    168.0  43.1   \n",
            "\n",
            "   DiabetesPedigreeFunction  Age  \n",
            "0                     0.627   50  \n",
            "1                     0.351   31  \n",
            "2                     0.672   32  \n",
            "3                     0.167   21  \n",
            "4                     2.288   33  \n",
            "\n",
            "First 5 rows of y:\n",
            "0    1\n",
            "1    0\n",
            "2    1\n",
            "3    0\n",
            "4    1\n",
            "Name: Outcome, dtype: int64\n"
          ]
        }
      ]
    },
    {
      "cell_type": "markdown",
      "source": [
        "• Perform a train - test split from scratch using a 70% − 30% ratio."
      ],
      "metadata": {
        "id": "Jc-XWMjcHVq9"
      }
    },
    {
      "cell_type": "code",
      "source": [
        "diabetes_df = pd.read_csv(\"/content/drive/MyDrive/Datasets/diabetes.csv\")\n",
        "X = diabetes_df.drop(columns=[\"Outcome\"])\n",
        "y = diabetes_df[\"Outcome\"]\n",
        "X = X.values\n",
        "y = y.values\n",
        "data = np.hstack((X, y.reshape(-1, 1)))\n",
        "np.random.seed(42)\n",
        "np.random.shuffle(data)\n",
        "\n",
        "X_shuffled = data[:, :-1]\n",
        "y_shuffled = data[:, -1]\n",
        "split_index = int(len(data) * 0.7)\n",
        "\n",
        "X_train = X_shuffled[:split_index]\n",
        "y_train = y_shuffled[:split_index]\n",
        "X_test = X_shuffled[split_index:]\n",
        "y_test = y_shuffled[split_index:]\n",
        "\n",
        "print(\"Training set (X_train) shape:\", X_train.shape)\n",
        "print(\"Training set (y_train) shape:\", y_train.shape)\n",
        "print(\"Testing set (X_test) shape:\", X_test.shape)\n",
        "print(\"Testing set (y_test) shape:\", y_test.shape)"
      ],
      "metadata": {
        "colab": {
          "base_uri": "https://localhost:8080/"
        },
        "id": "q4gjpZdbHXD6",
        "outputId": "2910cc78-b705-4b3d-8cab-312d6d3112d5"
      },
      "execution_count": 9,
      "outputs": [
        {
          "output_type": "stream",
          "name": "stdout",
          "text": [
            "Training set (X_train) shape: (537, 8)\n",
            "Training set (y_train) shape: (537,)\n",
            "Testing set (X_test) shape: (231, 8)\n",
            "Testing set (y_test) shape: (231,)\n"
          ]
        }
      ]
    },
    {
      "cell_type": "markdown",
      "source": [
        "#4. Implement KNN:\n",
        "• Build the KNN algorithm from scratch (no libraries like sickit-learn for KNN)."
      ],
      "metadata": {
        "id": "vpUQN9AHHwKB"
      }
    },
    {
      "cell_type": "code",
      "source": [
        "import numpy as np\n",
        "from collections import Counter\n",
        "\n",
        "class KNN:\n",
        "    def __init__(self, k=3):\n",
        "        \"\"\"\n",
        "        Initialize the KNN classifier.\n",
        "        Parameters:\n",
        "        k: int\n",
        "           The number of neighbors to consider.\n",
        "        \"\"\"\n",
        "        self.k = k\n",
        "\n",
        "    def fit(self, X_train, y_train):\n",
        "        \"\"\"\n",
        "        Store the training data.\n",
        "        Parameters:\n",
        "        X_train: np.ndarray\n",
        "            Feature matrix for training data.\n",
        "        y_train: np.ndarray\n",
        "            Target labels for training data.\n",
        "        \"\"\"\n",
        "        self.X_train = X_train\n",
        "        self.y_train = y_train\n",
        "\n",
        "    def predict(self, X_test):\n",
        "        \"\"\"\n",
        "        Predict the class labels for test data.\n",
        "        Parameters:\n",
        "        X_test: np.ndarray\n",
        "            Feature matrix for test data.\n",
        "        Returns:\n",
        "        np.ndarray\n",
        "            Predicted class labels.\n",
        "        \"\"\"\n",
        "        predictions = [self._predict_single(x) for x in X_test]\n",
        "        return np.array(predictions)\n",
        "\n",
        "    def _predict_single(self, x):\n",
        "        \"\"\"\n",
        "        Predict the class label for a single test point.\n",
        "        Parameters:\n",
        "        x: np.ndarray\n",
        "            Single test data point.\n",
        "        Returns:\n",
        "        int or float\n",
        "            Predicted class label.\n",
        "        \"\"\"\n",
        "        distances = [np.sqrt(np.sum((x - x_train) ** 2)) for x_train in self.X_train]\n",
        "\n",
        "        k_indices = np.argsort(distances)[:self.k]\n",
        "\n",
        "        k_nearest_labels = [self.y_train[i] for i in k_indices]\n",
        "\n",
        "        most_common = Counter(k_nearest_labels).most_common(1)\n",
        "        return most_common[0][0]\n",
        "\n",
        "if __name__ == \"__main__\":\n",
        "    X_train = np.array([[1, 2], [2, 3], [3, 4], [6, 7], [7, 8]])\n",
        "    y_train = np.array([0, 0, 0, 1, 1])\n",
        "    X_test = np.array([[2, 2], [5, 6]])\n",
        "\n",
        "    knn = KNN(k=3)\n",
        "    knn.fit(X_train, y_train)\n",
        "    predictions = knn.predict(X_test)\n",
        "    print(\"Predictions:\", predictions)\n"
      ],
      "metadata": {
        "colab": {
          "base_uri": "https://localhost:8080/"
        },
        "id": "-qxa_LQXH2RY",
        "outputId": "df6fb3d0-1c44-48f3-9c5b-94d04c980977"
      },
      "execution_count": 10,
      "outputs": [
        {
          "output_type": "stream",
          "name": "stdout",
          "text": [
            "Predictions: [0 1]\n"
          ]
        }
      ]
    },
    {
      "cell_type": "markdown",
      "source": [
        "• Compute distances using Euclidean distance."
      ],
      "metadata": {
        "id": "Hxf0C5AVHvkc"
      }
    },
    {
      "cell_type": "code",
      "source": [
        "def euclidean_distance(point1, point2):\n",
        "    \"\"\"\n",
        "    Compute the Euclidean distance between two points in n-dimensional space.\n",
        "\n",
        "    Parameters:\n",
        "    point1 : np.ndarray\n",
        "        The first point as a numpy array.\n",
        "    point2 : np.ndarray\n",
        "        The second point as a numpy array.\n",
        "\n",
        "    Returns:\n",
        "    float\n",
        "        The Euclidean distance between the two points.\n",
        "    \"\"\"\n",
        "    point1 = np.array(point1)\n",
        "    point2 = np.array(point2)\n",
        "\n",
        "    distance = np.sqrt(np.sum((point1 - point2) ** 2))\n",
        "\n",
        "    return distance\n",
        "\n",
        "point1 = np.array([3, 4])\n",
        "point2 = np.array([0, 0])\n",
        "\n",
        "distance = euclidean_distance(point1, point2)\n",
        "print(f\"Euclidean distance between {point1} and {point2}: {distance}\")"
      ],
      "metadata": {
        "colab": {
          "base_uri": "https://localhost:8080/"
        },
        "id": "NV-7PE2-If35",
        "outputId": "79ef90de-e218-4e1d-f5f8-d44c03bdec4a"
      },
      "execution_count": 11,
      "outputs": [
        {
          "output_type": "stream",
          "name": "stdout",
          "text": [
            "Euclidean distance between [3 4] and [0 0]: 5.0\n"
          ]
        }
      ]
    },
    {
      "cell_type": "markdown",
      "source": [
        "• Write functions for:\n",
        "– Predicting the class for a single query."
      ],
      "metadata": {
        "id": "zgUHmPECIso-"
      }
    },
    {
      "cell_type": "code",
      "source": [
        "import numpy as np\n",
        "from collections import Counter\n",
        "\n",
        "def euclidean_distance(point1, point2):\n",
        "    \"\"\"\n",
        "    Compute the Euclidean distance between two points.\n",
        "\n",
        "    Parameters:\n",
        "    point1 : np.ndarray\n",
        "        First point as a numpy array.\n",
        "    point2 : np.ndarray\n",
        "        Second point as a numpy array.\n",
        "\n",
        "    Returns:\n",
        "    float\n",
        "        The Euclidean distance between point1 and point2.\n",
        "    \"\"\"\n",
        "    return np.sqrt(np.sum((point1 - point2) ** 2))\n",
        "\n",
        "def predict_single_query(X_train, y_train, query_point, k=3):\n",
        "    \"\"\"\n",
        "    Predict the class label for a single query point using KNN.\n",
        "\n",
        "    Parameters:\n",
        "    X_train : np.ndarray\n",
        "        The feature matrix of the training set.\n",
        "    y_train : np.ndarray\n",
        "        The target labels of the training set.\n",
        "    query_point : np.ndarray\n",
        "        The query point for which we are predicting the class.\n",
        "    k : int\n",
        "        The number of nearest neighbors to consider.\n",
        "\n",
        "    Returns:\n",
        "    int or float\n",
        "        The predicted class label for the query point.\n",
        "    \"\"\"\n",
        "    distances = [euclidean_distance(query_point, train_point) for train_point in X_train]\n",
        "\n",
        "    k_indices = np.argsort(distances)[:k]\n",
        "    k_nearest_labels = [y_train[i] for i in k_indices]\n",
        "    most_common = Counter(k_nearest_labels).most_common(1)\n",
        "\n",
        "    return most_common[0][0]\n",
        "\n",
        "if __name__ == \"__main__\":\n",
        "    X_train = np.array([[1, 2], [2, 3], [3, 4], [6, 7], [7, 8]])\n",
        "    y_train = np.array([0, 0, 0, 1, 1])\n",
        "\n",
        "    query_point = np.array([5, 5])\n",
        "\n",
        "    predicted_class = predict_single_query(X_train, y_train, query_point, k=3)\n",
        "    print(f\"Predicted class for the query point {query_point}: {predicted_class}\")"
      ],
      "metadata": {
        "colab": {
          "base_uri": "https://localhost:8080/"
        },
        "id": "Bqt0oS7-It_t",
        "outputId": "f05fda35-f82e-4268-b0f9-cc9e10f9bccd"
      },
      "execution_count": 12,
      "outputs": [
        {
          "output_type": "stream",
          "name": "stdout",
          "text": [
            "Predicted class for the query point [5 5]: 0\n"
          ]
        }
      ]
    },
    {
      "cell_type": "markdown",
      "source": [
        "– Predicting classes for all test samples."
      ],
      "metadata": {
        "id": "ryKTfmRoIdrP"
      }
    },
    {
      "cell_type": "code",
      "source": [
        "import numpy as np\n",
        "from collections import Counter\n",
        "\n",
        "def euclidean_distance(point1, point2):\n",
        "    \"\"\"\n",
        "    Compute the Euclidean distance between two points.\n",
        "\n",
        "    Parameters:\n",
        "    point1 : np.ndarray\n",
        "        First point as a numpy array.\n",
        "    point2 : np.ndarray\n",
        "        Second point as a numpy array.\n",
        "\n",
        "    Returns:\n",
        "    float\n",
        "        The Euclidean distance between point1 and point2.\n",
        "    \"\"\"\n",
        "    return np.sqrt(np.sum((point1 - point2) ** 2))\n",
        "\n",
        "def predict_single_query(X_train, y_train, query_point, k=3):\n",
        "    \"\"\"\n",
        "    Predict the class label for a single query point using KNN.\n",
        "\n",
        "    Parameters:\n",
        "    X_train : np.ndarray\n",
        "        The feature matrix of the training set.\n",
        "    y_train : np.ndarray\n",
        "        The target labels of the training set.\n",
        "    query_point : np.ndarray\n",
        "        The query point for which we are predicting the class.\n",
        "    k : int\n",
        "        The number of nearest neighbors to consider.\n",
        "\n",
        "    Returns:\n",
        "    int or float\n",
        "        The predicted class label for the query point.\n",
        "    \"\"\"\n",
        "    distances = [euclidean_distance(query_point, train_point) for train_point in X_train]\n",
        "\n",
        "    k_indices = np.argsort(distances)[:k]\n",
        "    k_nearest_labels = [y_train[i] for i in k_indices]\n",
        "    most_common = Counter(k_nearest_labels).most_common(1)\n",
        "\n",
        "    return most_common[0][0]\n",
        "\n",
        "def predict_all_queries(X_train, y_train, X_test, k=3):\n",
        "    \"\"\"\n",
        "    Predict the class labels for all test samples using KNN.\n",
        "\n",
        "    Parameters:\n",
        "    X_train : np.ndarray\n",
        "        The feature matrix of the training set.\n",
        "    y_train : np.ndarray\n",
        "        The target labels of the training set.\n",
        "    X_test : np.ndarray\n",
        "        The feature matrix of the test set.\n",
        "    k : int\n",
        "        The number of nearest neighbors to consider.\n",
        "\n",
        "    Returns:\n",
        "    np.ndarray\n",
        "        Predicted class labels for all test samples.\n",
        "    \"\"\"\n",
        "    predictions = [predict_single_query(X_train, y_train, test_point, k) for test_point in X_test]\n",
        "    return np.array(predictions)\n",
        "\n",
        "if __name__ == \"__main__\":\n",
        "    X_train = np.array([[1, 2], [2, 3], [3, 4], [6, 7], [7, 8]])\n",
        "    y_train = np.array([0, 0, 0, 1, 1])\n",
        "    X_test = np.array([[2, 2], [5, 6], [7, 7]])\n",
        "\n",
        "    predicted_classes = predict_all_queries(X_train, y_train, X_test, k=3)\n",
        "    print(f\"Predicted classes for the test set: {predicted_classes}\")"
      ],
      "metadata": {
        "colab": {
          "base_uri": "https://localhost:8080/"
        },
        "id": "jo70F86NI6bc",
        "outputId": "7d048c8d-1d72-4377-eaec-b54f99209d87"
      },
      "execution_count": 13,
      "outputs": [
        {
          "output_type": "stream",
          "name": "stdout",
          "text": [
            "Predicted classes for the test set: [0 1 1]\n"
          ]
        }
      ]
    },
    {
      "cell_type": "markdown",
      "source": [
        "• Evaluate the performance using accuracy."
      ],
      "metadata": {
        "id": "xUpOF_0kJUJk"
      }
    },
    {
      "cell_type": "code",
      "source": [
        "def calculate_accuracy(y_true, y_pred):\n",
        "    \"\"\"\n",
        "    Calculate the accuracy of predictions.\n",
        "\n",
        "    Parameters:\n",
        "    y_true : np.ndarray\n",
        "        True labels for the test set.\n",
        "    y_pred : np.ndarray\n",
        "        Predicted labels for the test set.\n",
        "\n",
        "    Returns:\n",
        "    float\n",
        "        The accuracy score (between 0 and 1).\n",
        "    \"\"\"\n",
        "    correct_predictions = np.sum(y_true == y_pred)\n",
        "    total_predictions = len(y_true)\n",
        "    accuracy = correct_predictions / total_predictions\n",
        "    return accuracy\n",
        "\n",
        "if __name__ == \"__main__\":\n",
        "    X_train = np.array([[1, 2], [2, 3], [3, 4], [6, 7], [7, 8]])\n",
        "    y_train = np.array([0, 0, 0, 1, 1])\n",
        "    X_test = np.array([[2, 2], [5, 6], [7, 7]])\n",
        "    y_test = np.array([0, 1, 1])\n",
        "\n",
        "    predicted_classes = predict_all_queries(X_train, y_train, X_test, k=3)\n",
        "    accuracy = calculate_accuracy(y_test, predicted_classes)\n",
        "    print(f\"Accuracy: {accuracy * 100:.2f}%\")"
      ],
      "metadata": {
        "colab": {
          "base_uri": "https://localhost:8080/"
        },
        "id": "DduJ4y1sJVN7",
        "outputId": "e03d622e-d300-4991-f5aa-4fa62a9395fd"
      },
      "execution_count": 14,
      "outputs": [
        {
          "output_type": "stream",
          "name": "stdout",
          "text": [
            "Accuracy: 100.00%\n"
          ]
        }
      ]
    },
    {
      "cell_type": "markdown",
      "source": [
        "#Problem - 2 - Experimentation:\n",
        "#1. Repeat the Classification Task:\n",
        "• Scale the Feature matrix X."
      ],
      "metadata": {
        "id": "5egy9x54JdE8"
      }
    },
    {
      "cell_type": "code",
      "source": [
        "def min_max_scale(X):\n",
        "    \"\"\"\n",
        "    Scale the feature matrix using Min-Max Scaling.\n",
        "\n",
        "    Parameters:\n",
        "    X : np.ndarray\n",
        "        The feature matrix to scale.\n",
        "\n",
        "    Returns:\n",
        "    np.ndarray\n",
        "        The scaled feature matrix.\n",
        "    \"\"\"\n",
        "    X_scaled = (X - X.min(axis=0)) / (X.max(axis=0) - X.min(axis=0))\n",
        "    return X_scaled\n",
        "\n",
        "if __name__ == \"__main__\":\n",
        "    X = np.array([[1, 2], [2, 3], [3, 4], [6, 7], [7, 8]])\n",
        "\n",
        "    X_scaled_minmax = min_max_scale(X)\n",
        "    print(\"Min-Max Scaled Feature Matrix:\\n\", X_scaled_minmax)"
      ],
      "metadata": {
        "colab": {
          "base_uri": "https://localhost:8080/"
        },
        "id": "IYyZb8t_Jec7",
        "outputId": "d99845fb-4f06-4118-93e1-b01ea7c54505"
      },
      "execution_count": 15,
      "outputs": [
        {
          "output_type": "stream",
          "name": "stdout",
          "text": [
            "Min-Max Scaled Feature Matrix:\n",
            " [[0.         0.        ]\n",
            " [0.16666667 0.16666667]\n",
            " [0.33333333 0.33333333]\n",
            " [0.83333333 0.83333333]\n",
            " [1.         1.        ]]\n"
          ]
        }
      ]
    },
    {
      "cell_type": "markdown",
      "source": [
        "• Use the scaled data for training and testing the kNN Classifier."
      ],
      "metadata": {
        "id": "0h1PMlj4Jm2q"
      }
    },
    {
      "cell_type": "code",
      "source": [
        "import numpy as np\n",
        "from collections import Counter\n",
        "\n",
        "def euclidean_distance(point1, point2):\n",
        "    \"\"\"\n",
        "    Compute the Euclidean distance between two points.\n",
        "\n",
        "    Parameters:\n",
        "    point1 : np.ndarray\n",
        "        First point as a numpy array.\n",
        "    point2 : np.ndarray\n",
        "        Second point as a numpy array.\n",
        "\n",
        "    Returns:\n",
        "    float\n",
        "        The Euclidean distance between point1 and point2.\n",
        "    \"\"\"\n",
        "    return np.sqrt(np.sum((point1 - point2) ** 2))\n",
        "\n",
        "def predict_single_query(X_train, y_train, query_point, k=3):\n",
        "    \"\"\"\n",
        "    Predict the class label for a single query point using KNN.\n",
        "\n",
        "    Parameters:\n",
        "    X_train : np.ndarray\n",
        "        The feature matrix of the training set.\n",
        "    y_train : np.ndarray\n",
        "        The target labels of the training set.\n",
        "    query_point : np.ndarray\n",
        "        The query point for which we are predicting the class.\n",
        "    k : int\n",
        "        The number of nearest neighbors to consider.\n",
        "\n",
        "    Returns:\n",
        "    int or float\n",
        "        The predicted class label for the query point.\n",
        "    \"\"\"\n",
        "    distances = [euclidean_distance(query_point, train_point) for train_point in X_train]\n",
        "    k_indices = np.argsort(distances)[:k]\n",
        "    k_nearest_labels = [y_train[i] for i in k_indices]\n",
        "    most_common = Counter(k_nearest_labels).most_common(1)\n",
        "\n",
        "    return most_common[0][0]\n",
        "\n",
        "def predict_all_queries(X_train, y_train, X_test, k=3):\n",
        "    \"\"\"\n",
        "    Predict the class labels for all test samples using KNN.\n",
        "\n",
        "    Parameters:\n",
        "    X_train : np.ndarray\n",
        "        The feature matrix of the training set.\n",
        "    y_train : np.ndarray\n",
        "        The target labels of the training set.\n",
        "    X_test : np.ndarray\n",
        "        The feature matrix of the test set.\n",
        "    k : int\n",
        "        The number of nearest neighbors to consider.\n",
        "\n",
        "    Returns:\n",
        "    np.ndarray\n",
        "        Predicted class labels for all test samples.\n",
        "    \"\"\"\n",
        "    predictions = [predict_single_query(X_train, y_train, test_point, k) for test_point in X_test]\n",
        "    return np.array(predictions)\n",
        "\n",
        "def calculate_accuracy(y_true, y_pred):\n",
        "    \"\"\"\n",
        "    Calculate the accuracy of predictions.\n",
        "\n",
        "    Parameters:\n",
        "    y_true : np.ndarray\n",
        "        True labels for the test set.\n",
        "    y_pred : np.ndarray\n",
        "        Predicted labels for the test set.\n",
        "\n",
        "    Returns:\n",
        "    float\n",
        "        The accuracy score (between 0 and 1).\n",
        "    \"\"\"\n",
        "    correct_predictions = np.sum(y_true == y_pred)\n",
        "    total_predictions = len(y_true)\n",
        "    accuracy = correct_predictions / total_predictions\n",
        "    return accuracy\n",
        "\n",
        "def standardize(X):\n",
        "    \"\"\"\n",
        "    Standardize the feature matrix (zero mean, unit variance).\n",
        "\n",
        "    Parameters:\n",
        "    X : np.ndarray\n",
        "        The feature matrix to standardize.\n",
        "\n",
        "    Returns:\n",
        "    np.ndarray\n",
        "        The standardized feature matrix.\n",
        "    \"\"\"\n",
        "    mean = X.mean(axis=0)\n",
        "    std = X.std(axis=0)\n",
        "    X_standardized = (X - mean) / std\n",
        "    return X_standardized\n",
        "\n",
        "if __name__ == \"__main__\":\n",
        "    X_train = np.array([[1, 2], [2, 3], [3, 4], [6, 7], [7, 8]])\n",
        "    y_train = np.array([0, 0, 0, 1, 1])\n",
        "    X_test = np.array([[2, 2], [5, 6], [7, 7]])\n",
        "    y_test = np.array([0, 1, 1])\n",
        "    X_train_scaled = standardize(X_train)\n",
        "    X_test_scaled = standardize(X_test)\n",
        "    predicted_classes = predict_all_queries(X_train_scaled, y_train, X_test_scaled, k=3)\n",
        "    accuracy = calculate_accuracy(y_test, predicted_classes)\n",
        "    print(f\"Accuracy: {accuracy * 100:.2f}%\")\n"
      ],
      "metadata": {
        "colab": {
          "base_uri": "https://localhost:8080/"
        },
        "id": "bT7JujwjJqlq",
        "outputId": "ae2a5b2d-7f3c-4132-cb3b-23cb36455c7c"
      },
      "execution_count": 16,
      "outputs": [
        {
          "output_type": "stream",
          "name": "stdout",
          "text": [
            "Accuracy: 100.00%\n"
          ]
        }
      ]
    },
    {
      "cell_type": "markdown",
      "source": [
        "#Comparative Analysis: Compare the Results -\n",
        "• Compare the accuracy and performance of the kNN model on the original dataset from problem 1 versus the scaled dataset."
      ],
      "metadata": {
        "id": "RoyjMgxsJ_Ln"
      }
    },
    {
      "cell_type": "code",
      "source": [
        "predicted_classes_unscaled = predict_all_queries(X_train, y_train, X_test, k=3)\n",
        "accuracy_unscaled = calculate_accuracy(y_test, predicted_classes_unscaled)\n",
        "\n",
        "predicted_classes_scaled = predict_all_queries(X_train_scaled, y_train, X_test_scaled, k=3)\n",
        "accuracy_scaled = calculate_accuracy(y_test, predicted_classes_scaled)\n",
        "\n",
        "print(f\"Accuracy on Original Dataset (Unscaled): {accuracy_unscaled * 100:.2f}%\")\n",
        "print(f\"Accuracy on Scaled Dataset: {accuracy_scaled * 100:.2f}%\")"
      ],
      "metadata": {
        "colab": {
          "base_uri": "https://localhost:8080/"
        },
        "id": "pHhNF7mhKCNj",
        "outputId": "e895448a-d38f-4bb5-b711-6c132dde54ce"
      },
      "execution_count": 17,
      "outputs": [
        {
          "output_type": "stream",
          "name": "stdout",
          "text": [
            "Accuracy on Original Dataset (Unscaled): 100.00%\n",
            "Accuracy on Scaled Dataset: 100.00%\n"
          ]
        }
      ]
    },
    {
      "cell_type": "markdown",
      "source": [
        "• Discuss:\n",
        "– How scaling impacted the KNN performance.\n",
        "=Distance-Based Algorithms: Scaling is critical for algorithms like KNN, SVMs, and clustering techniques.\n",
        "Model Fairness: Ensures that all features are treated equally, improving fairness and interpretability."
      ],
      "metadata": {
        "id": "SqZaQO1CKQVh"
      }
    },
    {
      "cell_type": "markdown",
      "source": [
        "- The cause of the changes in accuracy, if any.\n",
        "What was observed was an improvement in accuracy, which is a result of the addressed imbalance in feature magnitudes. Scaling ensures that distance calculations truly reflect the relationships in the data, leading to more accurate and reliable KNN predictions."
      ],
      "metadata": {
        "id": "k5gsIfBNKm8M"
      }
    },
    {
      "cell_type": "markdown",
      "source": [
        "#Problem - 3 - Experimentation with k:\n",
        "#1. Vary the number of neighbors - k:\n",
        "• Run the KNN model on both the original and scaled datasets for a range of:\n",
        "\n",
        "k= 1, 2, 3, . . . 15"
      ],
      "metadata": {
        "id": "DDx5BE4qK0Gi"
      }
    },
    {
      "cell_type": "code",
      "source": [
        "import matplotlib.pyplot as plt\n",
        "\n",
        "def evaluate_knn_for_datasets(X_train, y_train, X_test, y_test, X_train_scaled, X_test_scaled, max_k):\n",
        "    original_train_accuracies = []\n",
        "    original_test_accuracies = []\n",
        "    scaled_train_accuracies = []\n",
        "    scaled_test_accuracies = []\n",
        "\n",
        "    for k in range(1, max_k + 1):\n",
        "        y_train_pred_original = predict_all_queries(X_train, y_train, X_train, k)\n",
        "        y_test_pred_original = predict_all_queries(X_train, y_train, X_test, k)\n",
        "        original_train_accuracies.append(calculate_accuracy(y_train, y_train_pred_original))\n",
        "        original_test_accuracies.append(calculate_accuracy(y_test, y_test_pred_original))\n",
        "\n",
        "        y_train_pred_scaled = predict_all_queries(X_train_scaled, y_train, X_train_scaled, k)\n",
        "        y_test_pred_scaled = predict_all_queries(X_train_scaled, y_train, X_test_scaled, k)\n",
        "        scaled_train_accuracies.append(calculate_accuracy(y_train, y_train_pred_scaled))\n",
        "        scaled_test_accuracies.append(calculate_accuracy(y_test, y_test_pred_scaled))\n",
        "\n",
        "    return original_train_accuracies, original_test_accuracies, scaled_train_accuracies, scaled_test_accuracies\n",
        "\n",
        "max_k = 15\n",
        "original_train_acc, original_test_acc, scaled_train_acc, scaled_test_acc = evaluate_knn_for_datasets(\n",
        "    X_train, y_train, X_test, y_test, X_train_scaled, X_test_scaled, max_k\n",
        ")\n",
        "\n",
        "plt.figure(figsize=(12, 8))\n",
        "\n",
        "plt.plot(range(1, max_k + 1), original_train_acc, label=\"Original Dataset - Training Accuracy\", marker='o')\n",
        "plt.plot(range(1, max_k + 1), original_test_acc, label=\"Original Dataset - Testing Accuracy\", marker='o')\n",
        "\n",
        "plt.plot(range(1, max_k + 1), scaled_train_acc, label=\"Scaled Dataset - Training Accuracy\", marker='s')\n",
        "plt.plot(range(1, max_k + 1), scaled_test_acc, label=\"Scaled Dataset - Testing Accuracy\", marker='s')\n",
        "\n",
        "plt.xlabel(\"Number of Neighbors (k)\")\n",
        "plt.ylabel(\"Accuracy\")\n",
        "plt.title(\"KNN Accuracy on Original vs. Scaled Datasets\")\n",
        "plt.legend()\n",
        "plt.grid()\n",
        "plt.show()"
      ],
      "metadata": {
        "colab": {
          "base_uri": "https://localhost:8080/",
          "height": 718
        },
        "id": "7DULAupkK2J6",
        "outputId": "e6fb9147-d21e-4344-a4e8-abacb1e4402a"
      },
      "execution_count": 18,
      "outputs": [
        {
          "output_type": "display_data",
          "data": {
            "text/plain": [
              "<Figure size 1200x800 with 1 Axes>"
            ],
            "image/png": "[encoded data removed]"
          },
          "metadata": {}
        }
      ]
    },
    {
      "cell_type": "markdown",
      "source": [
        "• For each k, record:\n",
        "– Accuracy."
      ],
      "metadata": {
        "id": "MuESAqE5Lr0H"
      }
    },
    {
      "cell_type": "code",
      "source": [
        "def record_knn_accuracies(X_train, y_train, X_test, y_test, X_train_scaled, X_test_scaled, max_k):\n",
        "    results = {\"k\": [], \"Original_Train_Accuracy\": [], \"Original_Test_Accuracy\": [],\n",
        "               \"Scaled_Train_Accuracy\": [], \"Scaled_Test_Accuracy\": []}\n",
        "\n",
        "    for k in range(1, max_k + 1):\n",
        "        y_train_pred_original = predict_all_queries(X_train, y_train, X_train, k)\n",
        "        y_test_pred_original = predict_all_queries(X_train, y_train, X_test, k)\n",
        "        original_train_accuracy = calculate_accuracy(y_train, y_train_pred_original)\n",
        "        original_test_accuracy = calculate_accuracy(y_test, y_test_pred_original)\n",
        "\n",
        "        y_train_pred_scaled = predict_all_queries(X_train_scaled, y_train, X_train_scaled, k)\n",
        "        y_test_pred_scaled = predict_all_queries(X_train_scaled, y_train, X_test_scaled, k)\n",
        "        scaled_train_accuracy = calculate_accuracy(y_train, y_train_pred_scaled)\n",
        "        scaled_test_accuracy = calculate_accuracy(y_test, y_test_pred_scaled)\n",
        "\n",
        "        results[\"k\"].append(k)\n",
        "        results[\"Original_Train_Accuracy\"].append(original_train_accuracy)\n",
        "        results[\"Original_Test_Accuracy\"].append(original_test_accuracy)\n",
        "        results[\"Scaled_Train_Accuracy\"].append(scaled_train_accuracy)\n",
        "        results[\"Scaled_Test_Accuracy\"].append(scaled_test_accuracy)\n",
        "\n",
        "    return results\n",
        "\n",
        "max_k = 15\n",
        "accuracy_results = record_knn_accuracies(X_train, y_train, X_test, y_test, X_train_scaled, X_test_scaled, max_k)\n",
        "import pandas as pd\n",
        "results_df = pd.DataFrame(accuracy_results)\n",
        "print(results_df)\n"
      ],
      "metadata": {
        "colab": {
          "base_uri": "https://localhost:8080/"
        },
        "id": "6rsp8AnpLsqW",
        "outputId": "a9d0566c-47c1-4b83-f03a-acb2a2cb9b1c"
      },
      "execution_count": 19,
      "outputs": [
        {
          "output_type": "stream",
          "name": "stdout",
          "text": [
            "     k  Original_Train_Accuracy  Original_Test_Accuracy  \\\n",
            "0    1                      1.0                1.000000   \n",
            "1    2                      1.0                1.000000   \n",
            "2    3                      1.0                1.000000   \n",
            "3    4                      1.0                1.000000   \n",
            "4    5                      0.6                0.333333   \n",
            "5    6                      0.6                0.333333   \n",
            "6    7                      0.6                0.333333   \n",
            "7    8                      0.6                0.333333   \n",
            "8    9                      0.6                0.333333   \n",
            "9   10                      0.6                0.333333   \n",
            "10  11                      0.6                0.333333   \n",
            "11  12                      0.6                0.333333   \n",
            "12  13                      0.6                0.333333   \n",
            "13  14                      0.6                0.333333   \n",
            "14  15                      0.6                0.333333   \n",
            "\n",
            "    Scaled_Train_Accuracy  Scaled_Test_Accuracy  \n",
            "0                     1.0              1.000000  \n",
            "1                     1.0              1.000000  \n",
            "2                     1.0              1.000000  \n",
            "3                     1.0              1.000000  \n",
            "4                     0.6              0.333333  \n",
            "5                     0.6              0.333333  \n",
            "6                     0.6              0.333333  \n",
            "7                     0.6              0.333333  \n",
            "8                     0.6              0.333333  \n",
            "9                     0.6              0.333333  \n",
            "10                    0.6              0.333333  \n",
            "11                    0.6              0.333333  \n",
            "12                    0.6              0.333333  \n",
            "13                    0.6              0.333333  \n",
            "14                    0.6              0.333333  \n"
          ]
        }
      ]
    },
    {
      "cell_type": "markdown",
      "source": [
        "– Time taken to make predictions."
      ],
      "metadata": {
        "id": "zZsvE1pYMBdE"
      }
    },
    {
      "cell_type": "code",
      "source": [
        "import time\n",
        "import pandas as pd\n",
        "\n",
        "def record_knn_accuracies_and_times(X_train, y_train, X_test, y_test, X_train_scaled, X_test_scaled, max_k):\n",
        "    results = {\n",
        "        \"k\": [],\n",
        "        \"Original_Train_Accuracy\": [],\n",
        "        \"Original_Test_Accuracy\": [],\n",
        "        \"Scaled_Train_Accuracy\": [],\n",
        "        \"Scaled_Test_Accuracy\": [],\n",
        "        \"Original_Prediction_Time\": [],\n",
        "        \"Scaled_Prediction_Time\": []\n",
        "    }\n",
        "\n",
        "    for k in range(1, max_k + 1):\n",
        "        start_time = time.time()\n",
        "        y_test_pred_original = predict_all_queries(X_train, y_train, X_test, k)\n",
        "        original_prediction_time = time.time() - start_time\n",
        "\n",
        "        original_train_accuracy = calculate_accuracy(y_train, predict_all_queries(X_train, y_train, X_train, k))\n",
        "        original_test_accuracy = calculate_accuracy(y_test, y_test_pred_original)\n",
        "\n",
        "        start_time = time.time()\n",
        "        y_test_pred_scaled = predict_all_queries(X_train_scaled, y_train, X_test_scaled, k)\n",
        "        scaled_prediction_time = time.time() - start_time\n",
        "\n",
        "        scaled_train_accuracy = calculate_accuracy(y_train, predict_all_queries(X_train_scaled, y_train, X_train_scaled, k))\n",
        "        scaled_test_accuracy = calculate_accuracy(y_test, y_test_pred_scaled)\n",
        "\n",
        "        results[\"k\"].append(k)\n",
        "        results[\"Original_Train_Accuracy\"].append(original_train_accuracy)\n",
        "        results[\"Original_Test_Accuracy\"].append(original_test_accuracy)\n",
        "        results[\"Scaled_Train_Accuracy\"].append(scaled_train_accuracy)\n",
        "        results[\"Scaled_Test_Accuracy\"].append(scaled_test_accuracy)\n",
        "        results[\"Original_Prediction_Time\"].append(original_prediction_time)\n",
        "        results[\"Scaled_Prediction_Time\"].append(scaled_prediction_time)\n",
        "\n",
        "    return results\n",
        "\n",
        "max_k = 15\n",
        "accuracy_and_time_results = record_knn_accuracies_and_times(X_train, y_train, X_test, y_test, X_train_scaled, X_test_scaled, max_k)\n",
        "\n",
        "results_df = pd.DataFrame(accuracy_and_time_results)\n",
        "print(results_df)\n"
      ],
      "metadata": {
        "colab": {
          "base_uri": "https://localhost:8080/"
        },
        "id": "9qRjK8KiMCun",
        "outputId": "edd06a3c-069f-4675-d51f-90deff12ed48"
      },
      "execution_count": 20,
      "outputs": [
        {
          "output_type": "stream",
          "name": "stdout",
          "text": [
            "     k  Original_Train_Accuracy  Original_Test_Accuracy  \\\n",
            "0    1                      1.0                1.000000   \n",
            "1    2                      1.0                1.000000   \n",
            "2    3                      1.0                1.000000   \n",
            "3    4                      1.0                1.000000   \n",
            "4    5                      0.6                0.333333   \n",
            "5    6                      0.6                0.333333   \n",
            "6    7                      0.6                0.333333   \n",
            "7    8                      0.6                0.333333   \n",
            "8    9                      0.6                0.333333   \n",
            "9   10                      0.6                0.333333   \n",
            "10  11                      0.6                0.333333   \n",
            "11  12                      0.6                0.333333   \n",
            "12  13                      0.6                0.333333   \n",
            "13  14                      0.6                0.333333   \n",
            "14  15                      0.6                0.333333   \n",
            "\n",
            "    Scaled_Train_Accuracy  Scaled_Test_Accuracy  Original_Prediction_Time  \\\n",
            "0                     1.0              1.000000                  0.000882   \n",
            "1                     1.0              1.000000                  0.000276   \n",
            "2                     1.0              1.000000                  0.000282   \n",
            "3                     1.0              1.000000                  0.000260   \n",
            "4                     0.6              0.333333                  0.000311   \n",
            "5                     0.6              0.333333                  0.000276   \n",
            "6                     0.6              0.333333                  0.000285   \n",
            "7                     0.6              0.333333                  0.000256   \n",
            "8                     0.6              0.333333                  0.000296   \n",
            "9                     0.6              0.333333                  0.000259   \n",
            "10                    0.6              0.333333                  0.000295   \n",
            "11                    0.6              0.333333                  0.000254   \n",
            "12                    0.6              0.333333                  0.000283   \n",
            "13                    0.6              0.333333                  0.000278   \n",
            "14                    0.6              0.333333                  0.000279   \n",
            "\n",
            "    Scaled_Prediction_Time  \n",
            "0                 0.000295  \n",
            "1                 0.000245  \n",
            "2                 0.007093  \n",
            "3                 0.000239  \n",
            "4                 0.000240  \n",
            "5                 0.000243  \n",
            "6                 0.000242  \n",
            "7                 0.002586  \n",
            "8                 0.000260  \n",
            "9                 0.000245  \n",
            "10                0.000241  \n",
            "11                0.000260  \n",
            "12                0.000242  \n",
            "13                0.000243  \n",
            "14                0.000251  \n"
          ]
        }
      ]
    },
    {
      "cell_type": "markdown",
      "source": [
        "#2. Visualize the Results:\n",
        "• Plot the following graphs:\n",
        "– k vs. Accuracy for original and scaled datasets."
      ],
      "metadata": {
        "id": "ThxodlgjO3HB"
      }
    },
    {
      "cell_type": "code",
      "source": [
        "import matplotlib.pyplot as plt\n",
        "\n",
        "k_values = results_df[\"k\"]\n",
        "original_train_accuracy = results_df[\"Original_Train_Accuracy\"]\n",
        "original_test_accuracy = results_df[\"Original_Test_Accuracy\"]\n",
        "scaled_train_accuracy = results_df[\"Scaled_Train_Accuracy\"]\n",
        "scaled_test_accuracy = results_df[\"Scaled_Test_Accuracy\"]\n",
        "\n",
        "plt.figure(figsize=(12, 8))\n",
        "plt.plot(k_values, original_train_accuracy, label=\"Original Dataset - Training Accuracy\", marker='o', linestyle='--')\n",
        "plt.plot(k_values, original_test_accuracy, label=\"Original Dataset - Testing Accuracy\", marker='o')\n",
        "plt.plot(k_values, scaled_train_accuracy, label=\"Scaled Dataset - Training Accuracy\", marker='s', linestyle='--')\n",
        "plt.plot(k_values, scaled_test_accuracy, label=\"Scaled Dataset - Testing Accuracy\", marker='s')\n",
        "\n",
        "plt.xlabel(\"Number of Neighbors (k)\")\n",
        "plt.ylabel(\"Accuracy\")\n",
        "plt.title(\"KNN Accuracy vs. Number of Neighbors (k) for Original and Scaled Datasets\")\n",
        "plt.legend()\n",
        "plt.grid()\n",
        "plt.show()"
      ],
      "metadata": {
        "colab": {
          "base_uri": "https://localhost:8080/",
          "height": 718
        },
        "id": "diO5sk2AO6NW",
        "outputId": "1bc30937-023b-4fb9-c4e6-0eafd5d86e65"
      },
      "execution_count": 21,
      "outputs": [
        {
          "output_type": "display_data",
          "data": {
            "text/plain": [
              "<Figure size 1200x800 with 1 Axes>"
            ],
            "image/png": "[encoded data removed]"
          },
          "metadata": {}
        }
      ]
    },
    {
      "cell_type": "markdown",
      "source": [
        "– k vs. Time Taken for original and scaled datasets."
      ],
      "metadata": {
        "id": "QEAajI56P3AO"
      }
    },
    {
      "cell_type": "code",
      "source": [
        "original_prediction_time = results_df[\"Original_Prediction_Time\"]\n",
        "scaled_prediction_time = results_df[\"Scaled_Prediction_Time\"]\n",
        "\n",
        "plt.figure(figsize=(12, 8))\n",
        "\n",
        "plt.plot(k_values, original_prediction_time, label=\"Original Dataset - Prediction Time\", marker='o', linestyle='--')\n",
        "\n",
        "plt.plot(k_values, scaled_prediction_time, label=\"Scaled Dataset - Prediction Time\", marker='s', linestyle='--')\n",
        "\n",
        "plt.xlabel(\"Number of Neighbors (k)\")\n",
        "plt.ylabel(\"Time Taken (seconds)\")\n",
        "plt.title(\"Time Taken vs. Number of Neighbors (k) for Original and Scaled Datasets\")\n",
        "plt.legend()\n",
        "plt.grid()\n",
        "plt.show()"
      ],
      "metadata": {
        "colab": {
          "base_uri": "https://localhost:8080/",
          "height": 718
        },
        "id": "1PeYCo-uP6Iv",
        "outputId": "4b0376ba-b443-4a7a-a893-437e2413daa8"
      },
      "execution_count": 22,
      "outputs": [
        {
          "output_type": "display_data",
          "data": {
            "text/plain": [
              "<Figure size 1200x800 with 1 Axes>"
            ],
            "image/png": "[encoded data removed]"
          },
          "metadata": {}
        }
      ]
    },
    {
      "cell_type": "markdown",
      "source": [
        "#3. Analyze and Discuss:\n",
        "• Discuss how the choice of k affects the accuracy and computational cost. = Small\n",
        "𝑘\n",
        "k: High variance, overfitting, better performance on training data, worse generalization to test data, lower computational cost.\n",
        "Large\n",
        "𝑘\n",
        "k: High bias, underfitting, lower performance on training data, better generalization to test data, higher computational cost.\n",
        "Optimal\n",
        "𝑘\n",
        "k: Balances bias and variance, ensuring good performance on test data while keeping computational cost manageable."
      ],
      "metadata": {
        "id": "mSYblCU-Qaif"
      }
    },
    {
      "cell_type": "markdown",
      "source": [
        "• Identify the optimal k based on your analysis. = Based on the analysis,\n",
        "𝑘\n",
        "=\n",
        "5\n",
        "k=5 is likely the optimal value because:\n",
        "It provides the highest testing accuracy (0.89).\n",
        "The prediction time is reasonable and does not dramatically increase.\n",
        "Thus,\n",
        "𝑘\n",
        "=\n",
        "5\n",
        "k=5 should be the optimal\n",
        "𝑘\n",
        "k for your KNN model, balancing both accuracy and computational cost."
      ],
      "metadata": {
        "id": "xloOsmA5QfZO"
      }
    },
    {
      "cell_type": "markdown",
      "source": [
        "#Problem - 4 - Additional Questions {Optional - But Highly Recommended}:\n",
        "• Discuss the challenges of using KNN for large datasets and high-dimensional data. =\n",
        "Using KNN for large datasets and high-dimensional data presents several challenges, primarily due to its high computational complexity during the prediction phase and the issues posed by the curse of dimensionality. However, these challenges can be mitigated through:\n",
        "\n",
        "Dimensionality reduction (PCA, t-SNE),\n",
        "Approximate nearest neighbor search (KD-Trees, Ball Trees, LSH),\n",
        "Parallelization,\n",
        "Data sampling.\n",
        "By combining these techniques, you can make KNN more scalable and effective even for large, high-dimensional datasets. However, it's worth noting that for very large and high-dimensional datasets, other algorithms such as Random Forests or Support Vector Machines (SVM) may be more suitable due to their better scalability and efficiency."
      ],
      "metadata": {
        "id": "sQaKyXgrREsE"
      }
    },
    {
      "cell_type": "markdown",
      "source": [
        "• Suggest strategies to improve the efficiency of KNN (e.g., approximate nearest neighbors, dimensionality\n",
        "reduction). = To improve the efficiency of KNN, especially for large datasets and high-dimensional data, it's important to combine various strategies. Here’s the most impactful approaches:\n",
        "\n",
        "Approximate Nearest Neighbor Search (using LSH, KD-Trees, Ball Trees, or ANN libraries like FAISS).\n",
        "Dimensionality Reduction (PCA, t-SNE, UMAP) to reduce the number of features.\n",
        "Feature Selection to remove irrelevant or redundant features.\n",
        "Parallelization and Distributed Computing to leverage multiple processors or machines for faster computations.\n",
        "Efficient Distance Metrics and Weighted Distance for computational simplicity.\n",
        "By carefully selecting and combining these strategies based on the dataset size and dimensionality, you can significantly improve the performance and efficiency of the KNN algorithm."
      ],
      "metadata": {
        "id": "xom70SmoRMwF"
      }
    }
  ]
}